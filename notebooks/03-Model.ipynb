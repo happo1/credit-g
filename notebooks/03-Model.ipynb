{
 "cells": [
  {
   "cell_type": "code",
   "execution_count": 1,
   "id": "0458a48d",
   "metadata": {},
   "outputs": [],
   "source": [
    "from sklearn.model_selection import train_test_split, StratifiedKFold, GridSearchCV, ParameterGrid\n",
    "from sklearn.preprocessing import OneHotEncoder, StandardScaler, LabelEncoder\n",
    "from sklearn.impute import SimpleImputer\n",
    "from sklearn.compose import ColumnTransformer\n",
    "from imblearn.pipeline import Pipeline\n",
    "from sklearn.metrics import accuracy_score, precision_score,recall_score, f1_score\n",
    "from sklearn.linear_model import LogisticRegression\n",
    "from sklearn.ensemble import RandomForestClassifier\n",
    "from xgboost import XGBClassifier\n",
    "from sklearn.svm import SVC\n",
    "from sklearn.neighbors import KNeighborsClassifier\n",
    "from sklearn.neural_network import MLPClassifier\n",
    "from imblearn.over_sampling import SMOTE\n",
    "\n",
    "import pickle\n",
    "import pandas as pd\n",
    "import numpy as np\n",
    "import warnings\n",
    "from tqdm import tqdm\n",
    "\n",
    "from useful.constants import SEED, N_ITER, TRAINVAL_SPLITS\n",
    "from useful.training_tools import ModelTraining, ModelMetrics\n",
    "\n",
    "warnings.filterwarnings('ignore')\n",
    "pd.set_option('display.max_colwidth', None)"
   ]
  },
  {
   "cell_type": "code",
   "execution_count": 2,
   "id": "64efc44a",
   "metadata": {},
   "outputs": [],
   "source": [
    "# Carrega dados\n",
    "\n",
    "with open('../data/processed/german-credit-data.pkl', 'rb') as file: \n",
    "    df = pickle.load(file)\n",
    "    \n",
    "df = pd.DataFrame(df)\n",
    "\n",
    "# LOUCURAS\n",
    "\n",
    "df['age_group'] = pd.cut(df['age'], \n",
    "                           bins=[0, 25, 40, 60, 100], \n",
    "                           labels=['Young Adult', 'Adult', 'Middle-Aged', 'Senior'])\n",
    "\n",
    "df['amount_group'] = pd.cut(df['credit_amount'], \n",
    "                            bins=[0, 2500, 5000, 10000, 20000], \n",
    "                            labels=['Low', 'Medium', 'High', 'Very High'])\n",
    "\n",
    "df['monthly_payment_ratio'] = df['credit_amount'] / df['duration']\n",
    "\n",
    "df['debt_to_age_ratio'] = df['credit_amount'] / df['age']\n",
    "\n",
    "\n",
    "df = pd.get_dummies(df, columns=['checking_status', 'credit_history', 'purpose', 'savings_status',\n",
    "                                    'employment', 'personal_status', 'other_parties', 'property_magnitude',\n",
    "                                    'other_payment_plans', 'housing', 'job', 'foreign_worker', 'monthly_payment_ratio',\n",
    "                                    'debt_to_age_ratio', 'age_group', 'amount_group'],\n",
    "                      drop_first=True)"
   ]
  },
  {
   "cell_type": "code",
   "execution_count": 3,
   "id": "c2a672ec",
   "metadata": {},
   "outputs": [],
   "source": [
    "# Carrega dados\n",
    "df = df.copy()\n",
    "X = df.drop(columns=['Target'])\n",
    "y = LabelEncoder().fit_transform(df['Target'].values)\n",
    "y = pd.Series(LabelEncoder().fit_transform(df['Target'].values))\n",
    "\n",
    "\n",
    "# Divide treino/teste\n",
    "train_idx, test_idx = next(StratifiedKFold(n_splits=TRAINVAL_SPLITS, shuffle=True, random_state=SEED).split(X, y))\n",
    "X_train, X_test = X.iloc[train_idx], X.iloc[test_idx]\n",
    "y_train, y_test = y.iloc[train_idx], y.iloc[test_idx]\n",
    "\n",
    "# Separa colunas\n",
    "cat_cols = X.select_dtypes(include='category').columns.tolist()\n",
    "num_cols = X.select_dtypes(include='number').columns.tolist()"
   ]
  },
  {
   "cell_type": "code",
   "execution_count": 4,
   "id": "57cb3974",
   "metadata": {},
   "outputs": [
    {
     "data": {
      "application/vnd.microsoft.datawrangler.viewer.v0+json": {
       "columns": [
        {
         "name": "index",
         "rawType": "int64",
         "type": "integer"
        },
        {
         "name": "count",
         "rawType": "int64",
         "type": "integer"
        }
       ],
       "ref": "e94dc11e-046e-492a-bf70-1c7c93c62e05",
       "rows": [
        [
         "1",
         "700"
        ],
        [
         "0",
         "300"
        ]
       ],
       "shape": {
        "columns": 1,
        "rows": 2
       }
      },
      "text/plain": [
       "1    700\n",
       "0    300\n",
       "Name: count, dtype: int64"
      ]
     },
     "execution_count": 4,
     "metadata": {},
     "output_type": "execute_result"
    }
   ],
   "source": [
    "y.value_counts()"
   ]
  },
  {
   "cell_type": "code",
   "execution_count": 5,
   "id": "6493dbd3",
   "metadata": {},
   "outputs": [],
   "source": [
    "# Preprocessamento\n",
    "preprocessor = ColumnTransformer([\n",
    "    ('num', StandardScaler(), num_cols),\n",
    "    ('cat', OneHotEncoder(drop='first', handle_unknown='ignore'), cat_cols)\n",
    "])"
   ]
  },
  {
   "cell_type": "code",
   "execution_count": 6,
   "id": "c5df5892",
   "metadata": {},
   "outputs": [],
   "source": [
    "# Modelos para comparar\n",
    "models = {\n",
    "    'Logistic Regression': LogisticRegression(random_state=SEED, max_iter=1000, class_weight='balanced'),\n",
    "    'Random Forest': RandomForestClassifier(random_state=SEED, class_weight='balanced'),\n",
    "    'XGBClassifier': XGBClassifier(random_state=SEED, is_unbalance=True),\n",
    "    'SVM (RBF Kernel)': SVC(random_state=SEED),\n",
    "    'KNN': KNeighborsClassifier()\n",
    "}\n",
    "\n",
    "lr_param_grid = {\n",
    "    'classifier__solver': ['lbfgs', 'newton-cg', 'sag', 'saga'],\n",
    "    'classifier__penalty': ['l2', 'l1', 'elasticnet', None],\n",
    "    'classifier__l1_ratio': [None, 0.25, 0.5, 0.75],\n",
    "    'classifier__C': [1, 0.1, 0.01, 10]\n",
    "}\n",
    "\n",
    "lr_valid_params = []\n",
    "for param in ParameterGrid(param_grid=lr_param_grid):\n",
    "    if param['classifier__solver'] in ['lbfgs', 'newton-cg', 'sag'] and param['classifier__penalty'] in ['l1', 'elasticnet'] or \\\n",
    "       param['classifier__penalty'] in ['l1', 'l2', None] and param['classifier__l1_ratio'] is not None or \\\n",
    "       param['classifier__penalty'] == 'elasticnet' and param['classifier__l1_ratio'] is None:\n",
    "        continue\n",
    "\n",
    "    if param['classifier__penalty'] is None:\n",
    "        param.pop('classifier__l1_ratio')\n",
    "        param.pop('classifier__C')\n",
    "\n",
    "    param = {k: [v] for k, v in param.items()}\n",
    "    lr_valid_params.append(param)\n",
    "    \n",
    "svm_param_grid = {\n",
    "    'classifier__C': [0.01, 0.1, 1, 10, 100],\n",
    "    'classifier__gamma': ['scale', 'auto', 1, 0.1, 0.01, 0.001, 0.0001],\n",
    "    'classifier__kernel': ['linear', 'rbf', 'poly', 'sigmoid'],\n",
    "    'classifier__degree': [2, 3, 4],\n",
    "    'classifier__coef0': [0.0, 0.1, 0.5]\n",
    "}\n",
    "\n",
    "# SVM param grid - valid params\n",
    "\n",
    "svm_valid_params = []\n",
    "for param in ParameterGrid(svm_param_grid):\n",
    "    kernel = param['classifier__kernel']\n",
    "    if kernel == 'linear' and ('classifier__degree' in param or 'classifier__coef0' in param):\n",
    "        continue\n",
    "    if kernel == 'rbf' and ('classifier__degree' in param or 'classifier__coef0' in param):\n",
    "        continue\n",
    "    if kernel in ['poly', 'sigmoid']:\n",
    "        pass  # degree and coef0 are valid\n",
    "    else:\n",
    "        param.pop('classifier__degree', None)\n",
    "        param.pop('classifier__coef0', None)\n",
    "    param = {k: [v] for k, v in param.items()}\n",
    "    svm_valid_params.append(param)\n",
    "\n",
    "# Param grids\n",
    "param_grids = {\n",
    "    'Logistic Regression': lr_valid_params,\n",
    "    'Random Forest': {\n",
    "        'classifier__n_estimators': [25, 50],\n",
    "        'classifier__max_depth': [None, 3],\n",
    "        'classifier__min_samples_split': [2, 5, 10],\n",
    "        'classifier__min_samples_leaf': [1, 3, 5,10],\n",
    "        'classifier__bootstrap': [True, False],\n",
    "        'classifier__max_features': ['sqrt'],\n",
    "        'classifier__criterion': ['entropy']\n",
    "    },\n",
    "    'XGBClassifier': {\n",
    "        'oversampling__k_neighbors': [3, 5, 7],\n",
    "        'oversampling__sampling_strategy': ['minority', 'not majority'],\n",
    "        'classifier__n_estimators': [100, 300, 500],\n",
    "        'classifier__n_estimators': [100, 200],\n",
    "        'classifier__max_depth': [3, 5, 7],\n",
    "        'classifier__learning_rate': [0.05, 0.1],\n",
    "        'classifier__scale_pos_weight': [1, y_train.value_counts()[0] / y_train.value_counts()[1]]\n",
    "    },\n",
    "    'SVM (RBF Kernel)': svm_valid_params,\n",
    "    'KNN': {\n",
    "        'oversampling__k_neighbors': [3, 5, 7],\n",
    "        'oversampling__sampling_strategy': ['minority', 'not majority'],\n",
    "        'classifier__n_neighbors': [3, 5, 7],\n",
    "        'classifier__weights': ['uniform', 'distance'],\n",
    "        'classifier__metric': ['euclidean', 'manhattan']\n",
    "    }\n",
    "}"
   ]
  },
  {
   "cell_type": "code",
   "execution_count": 7,
   "id": "f8bb4f55",
   "metadata": {},
   "outputs": [
    {
     "name": "stderr",
     "output_type": "stream",
     "text": [
      "Logistic Regression: 100%|██████████| 48/48 [00:28<00:00,  1.68it/s]\n"
     ]
    }
   ],
   "source": [
    "\n",
    "lr = ModelTraining(\n",
    "    'Logistic Regression',\n",
    "    models['Logistic Regression'],\n",
    "    param_grids['Logistic Regression'],\n",
    "    preprocessor,\n",
    "    X,\n",
    "    y\n",
    ")\n",
    "\n",
    "lr_results, lr_mean_scores, lr_best_model = lr.run(X_train, X_test, y_train, y_test)"
   ]
  },
  {
   "cell_type": "code",
   "execution_count": 8,
   "id": "3cec2bff",
   "metadata": {},
   "outputs": [
    {
     "data": {
      "application/vnd.microsoft.datawrangler.viewer.v0+json": {
       "columns": [
        {
         "name": "('Model', 'Class')",
         "rawType": "object",
         "type": "unknown"
        },
        {
         "name": "Precision",
         "rawType": "float64",
         "type": "float"
        },
        {
         "name": "Recall",
         "rawType": "float64",
         "type": "float"
        },
        {
         "name": "F1 Score",
         "rawType": "float64",
         "type": "float"
        }
       ],
       "ref": "eafcd8e8-ff2e-4093-8a65-c2e8333f9d54",
       "rows": [
        [
         "('Logistic Regression', '0')",
         "0.38",
         "0.55",
         "0.45"
        ],
        [
         "('Logistic Regression', '1')",
         "0.76",
         "0.62",
         "0.68"
        ]
       ],
       "shape": {
        "columns": 3,
        "rows": 2
       }
      },
      "text/html": [
       "<div>\n",
       "<style scoped>\n",
       "    .dataframe tbody tr th:only-of-type {\n",
       "        vertical-align: middle;\n",
       "    }\n",
       "\n",
       "    .dataframe tbody tr th {\n",
       "        vertical-align: top;\n",
       "    }\n",
       "\n",
       "    .dataframe thead th {\n",
       "        text-align: right;\n",
       "    }\n",
       "</style>\n",
       "<table border=\"1\" class=\"dataframe\">\n",
       "  <thead>\n",
       "    <tr style=\"text-align: right;\">\n",
       "      <th></th>\n",
       "      <th></th>\n",
       "      <th>Precision</th>\n",
       "      <th>Recall</th>\n",
       "      <th>F1 Score</th>\n",
       "    </tr>\n",
       "    <tr>\n",
       "      <th>Model</th>\n",
       "      <th>Class</th>\n",
       "      <th></th>\n",
       "      <th></th>\n",
       "      <th></th>\n",
       "    </tr>\n",
       "  </thead>\n",
       "  <tbody>\n",
       "    <tr>\n",
       "      <th rowspan=\"2\" valign=\"top\">Logistic Regression</th>\n",
       "      <th>0</th>\n",
       "      <td>0.38</td>\n",
       "      <td>0.55</td>\n",
       "      <td>0.45</td>\n",
       "    </tr>\n",
       "    <tr>\n",
       "      <th>1</th>\n",
       "      <td>0.76</td>\n",
       "      <td>0.62</td>\n",
       "      <td>0.68</td>\n",
       "    </tr>\n",
       "  </tbody>\n",
       "</table>\n",
       "</div>"
      ],
      "text/plain": [
       "                           Precision  Recall  F1 Score\n",
       "Model               Class                             \n",
       "Logistic Regression 0           0.38    0.55      0.45\n",
       "                    1           0.76    0.62      0.68"
      ]
     },
     "execution_count": 8,
     "metadata": {},
     "output_type": "execute_result"
    }
   ],
   "source": [
    "lr_mean_scores"
   ]
  },
  {
   "cell_type": "code",
   "execution_count": 9,
   "id": "d43a45a7",
   "metadata": {},
   "outputs": [],
   "source": [
    "rfc = ModelTraining(\n",
    "    'Random Forest',\n",
    "    models['Random Forest'],\n",
    "    param_grids['Random Forest'],\n",
    "    preprocessor,\n",
    "    X,\n",
    "    y\n",
    ")\n",
    "\n",
    "\n",
    "rfc_results, rfc_mean_scores, rfc_best_model = rfc.run(X_train, X_test, y_train, y_test)"
   ]
  },
  {
   "cell_type": "code",
   "execution_count": 10,
   "id": "32b1b5e1",
   "metadata": {},
   "outputs": [
    {
     "data": {
      "application/vnd.microsoft.datawrangler.viewer.v0+json": {
       "columns": [
        {
         "name": "('Model', 'Class')",
         "rawType": "object",
         "type": "unknown"
        },
        {
         "name": "Precision",
         "rawType": "float64",
         "type": "float"
        },
        {
         "name": "Recall",
         "rawType": "float64",
         "type": "float"
        },
        {
         "name": "F1 Score",
         "rawType": "float64",
         "type": "float"
        }
       ],
       "ref": "036754e5-5a67-4d2a-9464-a0c0506e3fb3",
       "rows": [
        [
         "('Random Forest', '0')",
         "0.41",
         "0.37",
         "0.39"
        ],
        [
         "('Random Forest', '1')",
         "0.74",
         "0.77",
         "0.76"
        ]
       ],
       "shape": {
        "columns": 3,
        "rows": 2
       }
      },
      "text/html": [
       "<div>\n",
       "<style scoped>\n",
       "    .dataframe tbody tr th:only-of-type {\n",
       "        vertical-align: middle;\n",
       "    }\n",
       "\n",
       "    .dataframe tbody tr th {\n",
       "        vertical-align: top;\n",
       "    }\n",
       "\n",
       "    .dataframe thead th {\n",
       "        text-align: right;\n",
       "    }\n",
       "</style>\n",
       "<table border=\"1\" class=\"dataframe\">\n",
       "  <thead>\n",
       "    <tr style=\"text-align: right;\">\n",
       "      <th></th>\n",
       "      <th></th>\n",
       "      <th>Precision</th>\n",
       "      <th>Recall</th>\n",
       "      <th>F1 Score</th>\n",
       "    </tr>\n",
       "    <tr>\n",
       "      <th>Model</th>\n",
       "      <th>Class</th>\n",
       "      <th></th>\n",
       "      <th></th>\n",
       "      <th></th>\n",
       "    </tr>\n",
       "  </thead>\n",
       "  <tbody>\n",
       "    <tr>\n",
       "      <th rowspan=\"2\" valign=\"top\">Random Forest</th>\n",
       "      <th>0</th>\n",
       "      <td>0.41</td>\n",
       "      <td>0.37</td>\n",
       "      <td>0.39</td>\n",
       "    </tr>\n",
       "    <tr>\n",
       "      <th>1</th>\n",
       "      <td>0.74</td>\n",
       "      <td>0.77</td>\n",
       "      <td>0.76</td>\n",
       "    </tr>\n",
       "  </tbody>\n",
       "</table>\n",
       "</div>"
      ],
      "text/plain": [
       "                     Precision  Recall  F1 Score\n",
       "Model         Class                             \n",
       "Random Forest 0           0.41    0.37      0.39\n",
       "              1           0.74    0.77      0.76"
      ]
     },
     "execution_count": 10,
     "metadata": {},
     "output_type": "execute_result"
    }
   ],
   "source": [
    "#pos label\n",
    "rfc_mean_scores"
   ]
  },
  {
   "cell_type": "code",
   "execution_count": 11,
   "id": "0ec655a4",
   "metadata": {},
   "outputs": [
    {
     "ename": "ValueError",
     "evalue": "\nAll the 1440 fits failed.\nIt is very likely that your model is misconfigured.\nYou can try to debug the error by setting error_score='raise'.\n\nBelow are more details about the failures:\n--------------------------------------------------------------------------------\n1440 fits failed with the following error:\nTraceback (most recent call last):\n  File \"c:\\projects\\statistics-main-folder\\german-credit\\.venv\\Lib\\site-packages\\sklearn\\model_selection\\_validation.py\", line 866, in _fit_and_score\n    estimator.fit(X_train, y_train, **fit_params)\n    ~~~~~~~~~~~~~^^^^^^^^^^^^^^^^^^^^^^^^^^^^^^^^\n  File \"c:\\projects\\statistics-main-folder\\german-credit\\.venv\\Lib\\site-packages\\sklearn\\base.py\", line 1389, in wrapper\n    return fit_method(estimator, *args, **kwargs)\n  File \"c:\\projects\\statistics-main-folder\\german-credit\\.venv\\Lib\\site-packages\\imblearn\\pipeline.py\", line 526, in fit\n    self._final_estimator.fit(Xt, yt, **last_step_params[\"fit\"])\n    ~~~~~~~~~~~~~~~~~~~~~~~~~^^^^^^^^^^^^^^^^^^^^^^^^^^^^^^^^^^^\n  File \"c:\\projects\\statistics-main-folder\\german-credit\\.venv\\Lib\\site-packages\\xgboost\\core.py\", line 729, in inner_f\n    return func(**kwargs)\n  File \"c:\\projects\\statistics-main-folder\\german-credit\\.venv\\Lib\\site-packages\\xgboost\\sklearn.py\", line 1640, in fit\n    raise ValueError(\n    ...<2 lines>...\n    )\nValueError: Invalid classes inferred from unique values of `y`.  Expected: [0 1], got ['0' '1']\n",
     "output_type": "error",
     "traceback": [
      "\u001b[31m---------------------------------------------------------------------------\u001b[39m",
      "\u001b[31mValueError\u001b[39m                                Traceback (most recent call last)",
      "\u001b[36mCell\u001b[39m\u001b[36m \u001b[39m\u001b[32mIn[11]\u001b[39m\u001b[32m, line 11\u001b[39m\n\u001b[32m      1\u001b[39m xgb = ModelTraining(\n\u001b[32m      2\u001b[39m     \u001b[33m'\u001b[39m\u001b[33mXGBClassifier\u001b[39m\u001b[33m'\u001b[39m,\n\u001b[32m      3\u001b[39m     models[\u001b[33m'\u001b[39m\u001b[33mXGBClassifier\u001b[39m\u001b[33m'\u001b[39m],\n\u001b[32m   (...)\u001b[39m\u001b[32m      8\u001b[39m     resampler=SMOTE(random_state=SEED)\n\u001b[32m      9\u001b[39m )\n\u001b[32m---> \u001b[39m\u001b[32m11\u001b[39m xgb_results, xgb_mean_scores, xgb_best_model = \u001b[43mxgb\u001b[49m\u001b[43m.\u001b[49m\u001b[43mrun\u001b[49m\u001b[43m(\u001b[49m\u001b[43mX_train\u001b[49m\u001b[43m,\u001b[49m\u001b[43m \u001b[49m\u001b[43mX_test\u001b[49m\u001b[43m,\u001b[49m\u001b[43m \u001b[49m\u001b[43my_train\u001b[49m\u001b[43m,\u001b[49m\u001b[43m \u001b[49m\u001b[43my_test\u001b[49m\u001b[43m)\u001b[49m\n",
      "\u001b[36mFile \u001b[39m\u001b[32mc:\\projects\\statistics-main-folder\\german-credit\\notebooks\\useful\\training_tools.py:120\u001b[39m, in \u001b[36mModelTraining.run\u001b[39m\u001b[34m(self, X_train, X_test, y_train, y_test)\u001b[39m\n\u001b[32m    118\u001b[39m \u001b[38;5;28;01mdef\u001b[39;00m\u001b[38;5;250m \u001b[39m\u001b[34mrun\u001b[39m(\u001b[38;5;28mself\u001b[39m, X_train, X_test, y_train, y_test):\n\u001b[32m    119\u001b[39m     \u001b[38;5;28mself\u001b[39m._set_train_test(X_train, X_test, y_train, y_test)\n\u001b[32m--> \u001b[39m\u001b[32m120\u001b[39m     \u001b[38;5;28;43mself\u001b[39;49m\u001b[43m.\u001b[49m\u001b[43m_run_grid\u001b[49m\u001b[43m(\u001b[49m\u001b[43m)\u001b[49m\n\u001b[32m    122\u001b[39m     df_results = pd.DataFrame(\u001b[38;5;28mself\u001b[39m.results)\n\u001b[32m    123\u001b[39m     numeric_cols = df_results.select_dtypes(include=[\u001b[33m'\u001b[39m\u001b[33mnumber\u001b[39m\u001b[33m'\u001b[39m])\n",
      "\u001b[36mFile \u001b[39m\u001b[32mc:\\projects\\statistics-main-folder\\german-credit\\notebooks\\useful\\training_tools.py:104\u001b[39m, in \u001b[36mModelTraining._run_grid\u001b[39m\u001b[34m(self)\u001b[39m\n\u001b[32m     96\u001b[39m \u001b[38;5;28;01melse\u001b[39;00m:\n\u001b[32m     97\u001b[39m     grid = GridSearchCV(\n\u001b[32m     98\u001b[39m         \u001b[38;5;28mself\u001b[39m.pipeline,\n\u001b[32m     99\u001b[39m         \u001b[38;5;28mself\u001b[39m.param_grid,\n\u001b[32m   (...)\u001b[39m\u001b[32m    102\u001b[39m         n_jobs=-\u001b[32m1\u001b[39m\n\u001b[32m    103\u001b[39m     )\n\u001b[32m--> \u001b[39m\u001b[32m104\u001b[39m     \u001b[43mgrid\u001b[49m\u001b[43m.\u001b[49m\u001b[43mfit\u001b[49m\u001b[43m(\u001b[49m\u001b[38;5;28;43mself\u001b[39;49m\u001b[43m.\u001b[49m\u001b[43mX_train\u001b[49m\u001b[43m,\u001b[49m\u001b[43m \u001b[49m\u001b[38;5;28;43mself\u001b[39;49m\u001b[43m.\u001b[49m\u001b[43my_train\u001b[49m\u001b[43m)\u001b[49m\n\u001b[32m    105\u001b[39m     \u001b[38;5;28mself\u001b[39m._store_result(grid)\n\u001b[32m    107\u001b[39m     \u001b[38;5;28;01mif\u001b[39;00m \u001b[38;5;28mhasattr\u001b[39m(grid, \u001b[33m'\u001b[39m\u001b[33mbest_score_\u001b[39m\u001b[33m'\u001b[39m) \u001b[38;5;129;01mand\u001b[39;00m \u001b[38;5;28mhasattr\u001b[39m(grid, \u001b[33m'\u001b[39m\u001b[33mbest_estimator_\u001b[39m\u001b[33m'\u001b[39m):\n",
      "\u001b[36mFile \u001b[39m\u001b[32mc:\\projects\\statistics-main-folder\\german-credit\\.venv\\Lib\\site-packages\\sklearn\\base.py:1389\u001b[39m, in \u001b[36m_fit_context.<locals>.decorator.<locals>.wrapper\u001b[39m\u001b[34m(estimator, *args, **kwargs)\u001b[39m\n\u001b[32m   1382\u001b[39m     estimator._validate_params()\n\u001b[32m   1384\u001b[39m \u001b[38;5;28;01mwith\u001b[39;00m config_context(\n\u001b[32m   1385\u001b[39m     skip_parameter_validation=(\n\u001b[32m   1386\u001b[39m         prefer_skip_nested_validation \u001b[38;5;129;01mor\u001b[39;00m global_skip_validation\n\u001b[32m   1387\u001b[39m     )\n\u001b[32m   1388\u001b[39m ):\n\u001b[32m-> \u001b[39m\u001b[32m1389\u001b[39m     \u001b[38;5;28;01mreturn\u001b[39;00m \u001b[43mfit_method\u001b[49m\u001b[43m(\u001b[49m\u001b[43mestimator\u001b[49m\u001b[43m,\u001b[49m\u001b[43m \u001b[49m\u001b[43m*\u001b[49m\u001b[43margs\u001b[49m\u001b[43m,\u001b[49m\u001b[43m \u001b[49m\u001b[43m*\u001b[49m\u001b[43m*\u001b[49m\u001b[43mkwargs\u001b[49m\u001b[43m)\u001b[49m\n",
      "\u001b[36mFile \u001b[39m\u001b[32mc:\\projects\\statistics-main-folder\\german-credit\\.venv\\Lib\\site-packages\\sklearn\\model_selection\\_search.py:1024\u001b[39m, in \u001b[36mBaseSearchCV.fit\u001b[39m\u001b[34m(self, X, y, **params)\u001b[39m\n\u001b[32m   1018\u001b[39m     results = \u001b[38;5;28mself\u001b[39m._format_results(\n\u001b[32m   1019\u001b[39m         all_candidate_params, n_splits, all_out, all_more_results\n\u001b[32m   1020\u001b[39m     )\n\u001b[32m   1022\u001b[39m     \u001b[38;5;28;01mreturn\u001b[39;00m results\n\u001b[32m-> \u001b[39m\u001b[32m1024\u001b[39m \u001b[38;5;28;43mself\u001b[39;49m\u001b[43m.\u001b[49m\u001b[43m_run_search\u001b[49m\u001b[43m(\u001b[49m\u001b[43mevaluate_candidates\u001b[49m\u001b[43m)\u001b[49m\n\u001b[32m   1026\u001b[39m \u001b[38;5;66;03m# multimetric is determined here because in the case of a callable\u001b[39;00m\n\u001b[32m   1027\u001b[39m \u001b[38;5;66;03m# self.scoring the return type is only known after calling\u001b[39;00m\n\u001b[32m   1028\u001b[39m first_test_score = all_out[\u001b[32m0\u001b[39m][\u001b[33m\"\u001b[39m\u001b[33mtest_scores\u001b[39m\u001b[33m\"\u001b[39m]\n",
      "\u001b[36mFile \u001b[39m\u001b[32mc:\\projects\\statistics-main-folder\\german-credit\\.venv\\Lib\\site-packages\\sklearn\\model_selection\\_search.py:1571\u001b[39m, in \u001b[36mGridSearchCV._run_search\u001b[39m\u001b[34m(self, evaluate_candidates)\u001b[39m\n\u001b[32m   1569\u001b[39m \u001b[38;5;28;01mdef\u001b[39;00m\u001b[38;5;250m \u001b[39m\u001b[34m_run_search\u001b[39m(\u001b[38;5;28mself\u001b[39m, evaluate_candidates):\n\u001b[32m   1570\u001b[39m \u001b[38;5;250m    \u001b[39m\u001b[33;03m\"\"\"Search all candidates in param_grid\"\"\"\u001b[39;00m\n\u001b[32m-> \u001b[39m\u001b[32m1571\u001b[39m     \u001b[43mevaluate_candidates\u001b[49m\u001b[43m(\u001b[49m\u001b[43mParameterGrid\u001b[49m\u001b[43m(\u001b[49m\u001b[38;5;28;43mself\u001b[39;49m\u001b[43m.\u001b[49m\u001b[43mparam_grid\u001b[49m\u001b[43m)\u001b[49m\u001b[43m)\u001b[49m\n",
      "\u001b[36mFile \u001b[39m\u001b[32mc:\\projects\\statistics-main-folder\\german-credit\\.venv\\Lib\\site-packages\\sklearn\\model_selection\\_search.py:1001\u001b[39m, in \u001b[36mBaseSearchCV.fit.<locals>.evaluate_candidates\u001b[39m\u001b[34m(candidate_params, cv, more_results)\u001b[39m\n\u001b[32m    994\u001b[39m \u001b[38;5;28;01melif\u001b[39;00m \u001b[38;5;28mlen\u001b[39m(out) != n_candidates * n_splits:\n\u001b[32m    995\u001b[39m     \u001b[38;5;28;01mraise\u001b[39;00m \u001b[38;5;167;01mValueError\u001b[39;00m(\n\u001b[32m    996\u001b[39m         \u001b[33m\"\u001b[39m\u001b[33mcv.split and cv.get_n_splits returned \u001b[39m\u001b[33m\"\u001b[39m\n\u001b[32m    997\u001b[39m         \u001b[33m\"\u001b[39m\u001b[33minconsistent results. Expected \u001b[39m\u001b[38;5;132;01m{}\u001b[39;00m\u001b[33m \u001b[39m\u001b[33m\"\u001b[39m\n\u001b[32m    998\u001b[39m         \u001b[33m\"\u001b[39m\u001b[33msplits, got \u001b[39m\u001b[38;5;132;01m{}\u001b[39;00m\u001b[33m\"\u001b[39m.format(n_splits, \u001b[38;5;28mlen\u001b[39m(out) // n_candidates)\n\u001b[32m    999\u001b[39m     )\n\u001b[32m-> \u001b[39m\u001b[32m1001\u001b[39m \u001b[43m_warn_or_raise_about_fit_failures\u001b[49m\u001b[43m(\u001b[49m\u001b[43mout\u001b[49m\u001b[43m,\u001b[49m\u001b[43m \u001b[49m\u001b[38;5;28;43mself\u001b[39;49m\u001b[43m.\u001b[49m\u001b[43merror_score\u001b[49m\u001b[43m)\u001b[49m\n\u001b[32m   1003\u001b[39m \u001b[38;5;66;03m# For callable self.scoring, the return type is only know after\u001b[39;00m\n\u001b[32m   1004\u001b[39m \u001b[38;5;66;03m# calling. If the return type is a dictionary, the error scores\u001b[39;00m\n\u001b[32m   1005\u001b[39m \u001b[38;5;66;03m# can now be inserted with the correct key. The type checking\u001b[39;00m\n\u001b[32m   1006\u001b[39m \u001b[38;5;66;03m# of out will be done in `_insert_error_scores`.\u001b[39;00m\n\u001b[32m   1007\u001b[39m \u001b[38;5;28;01mif\u001b[39;00m \u001b[38;5;28mcallable\u001b[39m(\u001b[38;5;28mself\u001b[39m.scoring):\n",
      "\u001b[36mFile \u001b[39m\u001b[32mc:\\projects\\statistics-main-folder\\german-credit\\.venv\\Lib\\site-packages\\sklearn\\model_selection\\_validation.py:517\u001b[39m, in \u001b[36m_warn_or_raise_about_fit_failures\u001b[39m\u001b[34m(results, error_score)\u001b[39m\n\u001b[32m    510\u001b[39m \u001b[38;5;28;01mif\u001b[39;00m num_failed_fits == num_fits:\n\u001b[32m    511\u001b[39m     all_fits_failed_message = (\n\u001b[32m    512\u001b[39m         \u001b[33mf\u001b[39m\u001b[33m\"\u001b[39m\u001b[38;5;130;01m\\n\u001b[39;00m\u001b[33mAll the \u001b[39m\u001b[38;5;132;01m{\u001b[39;00mnum_fits\u001b[38;5;132;01m}\u001b[39;00m\u001b[33m fits failed.\u001b[39m\u001b[38;5;130;01m\\n\u001b[39;00m\u001b[33m\"\u001b[39m\n\u001b[32m    513\u001b[39m         \u001b[33m\"\u001b[39m\u001b[33mIt is very likely that your model is misconfigured.\u001b[39m\u001b[38;5;130;01m\\n\u001b[39;00m\u001b[33m\"\u001b[39m\n\u001b[32m    514\u001b[39m         \u001b[33m\"\u001b[39m\u001b[33mYou can try to debug the error by setting error_score=\u001b[39m\u001b[33m'\u001b[39m\u001b[33mraise\u001b[39m\u001b[33m'\u001b[39m\u001b[33m.\u001b[39m\u001b[38;5;130;01m\\n\u001b[39;00m\u001b[38;5;130;01m\\n\u001b[39;00m\u001b[33m\"\u001b[39m\n\u001b[32m    515\u001b[39m         \u001b[33mf\u001b[39m\u001b[33m\"\u001b[39m\u001b[33mBelow are more details about the failures:\u001b[39m\u001b[38;5;130;01m\\n\u001b[39;00m\u001b[38;5;132;01m{\u001b[39;00mfit_errors_summary\u001b[38;5;132;01m}\u001b[39;00m\u001b[33m\"\u001b[39m\n\u001b[32m    516\u001b[39m     )\n\u001b[32m--> \u001b[39m\u001b[32m517\u001b[39m     \u001b[38;5;28;01mraise\u001b[39;00m \u001b[38;5;167;01mValueError\u001b[39;00m(all_fits_failed_message)\n\u001b[32m    519\u001b[39m \u001b[38;5;28;01melse\u001b[39;00m:\n\u001b[32m    520\u001b[39m     some_fits_failed_message = (\n\u001b[32m    521\u001b[39m         \u001b[33mf\u001b[39m\u001b[33m\"\u001b[39m\u001b[38;5;130;01m\\n\u001b[39;00m\u001b[38;5;132;01m{\u001b[39;00mnum_failed_fits\u001b[38;5;132;01m}\u001b[39;00m\u001b[33m fits failed out of a total of \u001b[39m\u001b[38;5;132;01m{\u001b[39;00mnum_fits\u001b[38;5;132;01m}\u001b[39;00m\u001b[33m.\u001b[39m\u001b[38;5;130;01m\\n\u001b[39;00m\u001b[33m\"\u001b[39m\n\u001b[32m    522\u001b[39m         \u001b[33m\"\u001b[39m\u001b[33mThe score on these train-test partitions for these parameters\u001b[39m\u001b[33m\"\u001b[39m\n\u001b[32m   (...)\u001b[39m\u001b[32m    526\u001b[39m         \u001b[33mf\u001b[39m\u001b[33m\"\u001b[39m\u001b[33mBelow are more details about the failures:\u001b[39m\u001b[38;5;130;01m\\n\u001b[39;00m\u001b[38;5;132;01m{\u001b[39;00mfit_errors_summary\u001b[38;5;132;01m}\u001b[39;00m\u001b[33m\"\u001b[39m\n\u001b[32m    527\u001b[39m     )\n",
      "\u001b[31mValueError\u001b[39m: \nAll the 1440 fits failed.\nIt is very likely that your model is misconfigured.\nYou can try to debug the error by setting error_score='raise'.\n\nBelow are more details about the failures:\n--------------------------------------------------------------------------------\n1440 fits failed with the following error:\nTraceback (most recent call last):\n  File \"c:\\projects\\statistics-main-folder\\german-credit\\.venv\\Lib\\site-packages\\sklearn\\model_selection\\_validation.py\", line 866, in _fit_and_score\n    estimator.fit(X_train, y_train, **fit_params)\n    ~~~~~~~~~~~~~^^^^^^^^^^^^^^^^^^^^^^^^^^^^^^^^\n  File \"c:\\projects\\statistics-main-folder\\german-credit\\.venv\\Lib\\site-packages\\sklearn\\base.py\", line 1389, in wrapper\n    return fit_method(estimator, *args, **kwargs)\n  File \"c:\\projects\\statistics-main-folder\\german-credit\\.venv\\Lib\\site-packages\\imblearn\\pipeline.py\", line 526, in fit\n    self._final_estimator.fit(Xt, yt, **last_step_params[\"fit\"])\n    ~~~~~~~~~~~~~~~~~~~~~~~~~^^^^^^^^^^^^^^^^^^^^^^^^^^^^^^^^^^^\n  File \"c:\\projects\\statistics-main-folder\\german-credit\\.venv\\Lib\\site-packages\\xgboost\\core.py\", line 729, in inner_f\n    return func(**kwargs)\n  File \"c:\\projects\\statistics-main-folder\\german-credit\\.venv\\Lib\\site-packages\\xgboost\\sklearn.py\", line 1640, in fit\n    raise ValueError(\n    ...<2 lines>...\n    )\nValueError: Invalid classes inferred from unique values of `y`.  Expected: [0 1], got ['0' '1']\n"
     ]
    }
   ],
   "source": [
    "xgb = ModelTraining(\n",
    "    'XGBClassifier',\n",
    "    models['XGBClassifier'],\n",
    "    param_grids['XGBClassifier'],\n",
    "    preprocessor,\n",
    "    X,\n",
    "    y,\n",
    "    resampler=SMOTE(random_state=SEED)\n",
    ")\n",
    "\n",
    "xgb_results, xgb_mean_scores, xgb_best_model = xgb.run(X_train, X_test, y_train, y_test)"
   ]
  },
  {
   "cell_type": "code",
   "execution_count": null,
   "id": "a55a106d",
   "metadata": {},
   "outputs": [],
   "source": [
    "xgb_mean_scores"
   ]
  },
  {
   "cell_type": "code",
   "execution_count": null,
   "id": "e386a3ad",
   "metadata": {},
   "outputs": [],
   "source": [
    "knn = ModelTraining(\n",
    "    'KNN',\n",
    "    models['KNN'],\n",
    "    param_grids['KNN'],\n",
    "    preprocessor,\n",
    "    X,\n",
    "    y,\n",
    "    resampler=SMOTE(random_state=SEED)\n",
    ")\n",
    "\n",
    "knn_results, knn_mean_scores, knn_best_model = knn.run(X_train, X_test, y_train, y_test)"
   ]
  },
  {
   "cell_type": "code",
   "execution_count": null,
   "id": "284b3c96",
   "metadata": {},
   "outputs": [],
   "source": [
    "knn_mean_scores"
   ]
  },
  {
   "cell_type": "code",
   "execution_count": null,
   "id": "03630b17",
   "metadata": {},
   "outputs": [],
   "source": [
    "# Crie uma instância de ModelMetrics com o melhor modelo\n",
    "model_metrics_xgb = ModelMetrics(xgb_best_model, X_train, X_test, y_train, y_test)\n",
    "\n",
    "# Plote a matriz de confusão\n",
    "cm_fig_xgb = model_metrics_xgb.plot_confusion_matrix()\n",
    "cm_fig_xgb.show()"
   ]
  },
  {
   "cell_type": "markdown",
   "id": "7d362d6a",
   "metadata": {},
   "source": [
    "gb_best_model"
   ]
  }
 ],
 "metadata": {
  "kernelspec": {
   "display_name": ".venv",
   "language": "python",
   "name": "python3"
  },
  "language_info": {
   "codemirror_mode": {
    "name": "ipython",
    "version": 3
   },
   "file_extension": ".py",
   "mimetype": "text/x-python",
   "name": "python",
   "nbconvert_exporter": "python",
   "pygments_lexer": "ipython3",
   "version": "3.13.2"
  }
 },
 "nbformat": 4,
 "nbformat_minor": 5
}
